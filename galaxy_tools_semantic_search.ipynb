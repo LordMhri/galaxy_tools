{
 "cells": [
  {
   "cell_type": "code",
   "execution_count": 12,
   "id": "dae8a24c",
   "metadata": {},
   "outputs": [
    {
     "name": "stdout",
     "output_type": "stream",
     "text": [
      "the data is loaded, the size is 7286\n"
     ]
    }
   ],
   "source": [
    "import json\n",
    "\n",
    "\n",
    "try:\n",
    "    with open(\"galaxy_tools.json\",\"r\") as f:\n",
    "        data = json.load(f)\n",
    "    print(\"the data is loaded, the size is\", len(data))\n",
    "    \n",
    "except FileNotFoundError:\n",
    "    print(\"File not found\")\n",
    "except json.JSONDecodeError:\n",
    "    print(\"Error: Could not decode JSON from 'galaxy_tools.json'.\")\n",
    "\n"
   ]
  },
  {
   "cell_type": "code",
   "execution_count": null,
   "id": "b5e6e5a8",
   "metadata": {},
   "outputs": [],
   "source": []
  },
  {
   "cell_type": "code",
   "execution_count": 13,
   "id": "d91bf725",
   "metadata": {},
   "outputs": [
    {
     "name": "stdout",
     "output_type": "stream",
     "text": [
      "name\n",
      "description\n",
      "panel_section_name\n",
      "labels\n",
      "edam_topics\n"
     ]
    }
   ],
   "source": [
    "import pandas as pd\n",
    "\n",
    "\n",
    "df = pd.read_csv('galaxy_tools.csv')\n",
    "\n",
    "\n",
    "ID_COLUMN = 'id'\n",
    "NAME_COLUMN = 'name'\n",
    "DESCRIPTION_COLUMN = 'description'\n",
    "SECTION_COLUMN = 'panel_section_name'\n",
    "LABELS_COLUMN = 'labels'\n",
    "TOPICS_COLUMN = 'edam_topics'\n",
    "\n",
    "\n",
    "columns_to_process = [\n",
    "    NAME_COLUMN,\n",
    "    DESCRIPTION_COLUMN,\n",
    "    SECTION_COLUMN,\n",
    "    LABELS_COLUMN,\n",
    "    TOPICS_COLUMN\n",
    "]\n",
    "\n",
    "for data in df[columns_to_process]:\n",
    "    print(data if df[LABELS_COLUMN].notna else ''  )\n",
    "\n",
    "df[columns_to_process] = df[columns_to_process].fillna(' ')\n",
    "\n",
    "# df[columns_to_process]\n"
   ]
  },
  {
   "cell_type": "code",
   "execution_count": 14,
   "id": "a74765ee",
   "metadata": {},
   "outputs": [],
   "source": [
    "import ast\n",
    "\n",
    "def create_text_string(row):\n",
    "    \"\"\"\n",
    "    Combines relevant fields into a single, descriptive string.\n",
    "    Adds labels like \"Name:\", \"Description:\" to provide context for the model.\n",
    "    \"\"\"\n",
    "    name = row[NAME_COLUMN]\n",
    "    description = row[DESCRIPTION_COLUMN]\n",
    "    section = row[SECTION_COLUMN]\n",
    "    labels_str = row[LABELS_COLUMN]\n",
    "    topics_str = row[TOPICS_COLUMN]\n",
    "\n",
    "    text_parts = []\n",
    "    \n",
    "    # Add name, description, and section\n",
    "    if name:\n",
    "        text_parts.append(f\"Tool: {name}.\")\n",
    "    if description:\n",
    "        text_parts.append(f\"Description: {description}.\")\n",
    "    if section:\n",
    "        text_parts.append(f\"Category: {section}.\")\n",
    "\n",
    "    # Process labels and topics which might be string representations of lists\n",
    "    # Example: \"['Text', 'File Operations']\"\n",
    "    # We will clean this up to be more readable: \"Text, File Operations\"\n",
    "    if labels_str:\n",
    "        try:\n",
    "            # Safely evaluate the string to get a list\n",
    "            labels_list = ast.literal_eval(labels_str)\n",
    "            if isinstance(labels_list, list) and labels_list:\n",
    "                text_parts.append(f\"Labels: {', '.join(labels_list)}.\")\n",
    "        except (ValueError, SyntaxError):\n",
    "            # If it's just a plain string, use it as is\n",
    "            text_parts.append(f\"Labels: {labels_str}.\")\n",
    "\n",
    "    if topics_str:\n",
    "        try:\n",
    "            topics_list = ast.literal_eval(topics_str)\n",
    "            if isinstance(topics_list, list) and topics_list:\n",
    "                text_parts.append(f\"Topics: {', '.join(topics_list)}.\")\n",
    "        except (ValueError, SyntaxError):\n",
    "            text_parts.append(f\"Topics: {topics_str}.\")\n",
    "\n",
    "    return \" \".join(text_parts)\n"
   ]
  },
  {
   "cell_type": "code",
   "execution_count": 15,
   "id": "669cbe1a",
   "metadata": {},
   "outputs": [
    {
     "name": "stdout",
     "output_type": "stream",
     "text": [
      "0       Tool: Upload File. Description: from your comp...\n",
      "1       Tool: UCSC Main. Description: table browser. C...\n",
      "2       Tool: UCSC Archaea. Description: table browser...\n",
      "3       Tool: SRA. Description: server. Category: Get ...\n",
      "4       Tool: EBI SRA. Description: ENA SRA. Category:...\n",
      "                              ...                        \n",
      "7281    Tool: Set External Metadata. Description:  . C...\n",
      "7282    Tool: Export History. Description:  . Category...\n",
      "7283    Tool: Export History to URI. Description:  . C...\n",
      "7284    Tool: Import History. Description:  . Category...\n",
      "7285       Tool: Data Fetch. Description:  . Category:  .\n",
      "Length: 7286, dtype: object\n"
     ]
    }
   ],
   "source": [
    "new_text_String = df.apply(create_text_string,1)\n",
    "\n",
    "\n",
    "print(new_text_String)"
   ]
  },
  {
   "cell_type": "code",
   "execution_count": null,
   "id": "dc6e648a",
   "metadata": {},
   "outputs": [
    {
     "data": {
      "text/plain": [
       "<bound method NDFrame.head of                               id  \\\n",
       "0                        upload1   \n",
       "1             ucsc_table_direct1   \n",
       "2     ucsc_table_direct_archaea1   \n",
       "3                     sra_source   \n",
       "4                   ebi_sra_main   \n",
       "...                          ...   \n",
       "7281            __SET_METADATA__   \n",
       "7282          __EXPORT_HISTORY__   \n",
       "7283   __EXPORT_HISTORY_TO_URI__   \n",
       "7284          __IMPORT_HISTORY__   \n",
       "7285              __DATA_FETCH__   \n",
       "\n",
       "                                            text_string  \n",
       "0     Tool: Upload File. Description: from your comp...  \n",
       "1     Tool: UCSC Main. Description: table browser. C...  \n",
       "2     Tool: UCSC Archaea. Description: table browser...  \n",
       "3     Tool: SRA. Description: server. Category: Get ...  \n",
       "4     Tool: EBI SRA. Description: ENA SRA. Category:...  \n",
       "...                                                 ...  \n",
       "7281  Tool: Set External Metadata. Description:  . C...  \n",
       "7282  Tool: Export History. Description:  . Category...  \n",
       "7283  Tool: Export History to URI. Description:  . C...  \n",
       "7284  Tool: Import History. Description:  . Category...  \n",
       "7285     Tool: Data Fetch. Description:  . Category:  .  \n",
       "\n",
       "[7286 rows x 2 columns]>"
      ]
     },
     "execution_count": 24,
     "metadata": {},
     "output_type": "execute_result"
    }
   ],
   "source": [
    "data = {\n",
    "    'id' : df[ID_COLUMN],\n",
    "    'text_string': new_text_String\n",
    "}\n",
    "\n",
    "\n",
    "\n",
    "cleaned_df = pd.DataFrame(data)\n",
    "cleaned_df.head\n",
    "\n",
    "\n",
    "cleaned_df.to_csv('cleaned_data.csv',index=False)"
   ]
  }
 ],
 "metadata": {
  "kernelspec": {
   "display_name": "galaxy_tools (3.13.5)",
   "language": "python",
   "name": "python3"
  },
  "language_info": {
   "codemirror_mode": {
    "name": "ipython",
    "version": 3
   },
   "file_extension": ".py",
   "mimetype": "text/x-python",
   "name": "python",
   "nbconvert_exporter": "python",
   "pygments_lexer": "ipython3",
   "version": "3.13.5"
  }
 },
 "nbformat": 4,
 "nbformat_minor": 5
}
