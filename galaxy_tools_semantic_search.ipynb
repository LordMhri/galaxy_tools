{
 "cells": [
  {
   "cell_type": "code",
   "execution_count": 1,
   "id": "dae8a24c",
   "metadata": {},
   "outputs": [
    {
     "name": "stdout",
     "output_type": "stream",
     "text": [
      "the data is loaded, the size is 7286\n"
     ]
    }
   ],
   "source": [
    "import json\n",
    "\n",
    "\n",
    "try:\n",
    "    with open(\"galaxy_tools.json\",\"r\") as f:\n",
    "        data = json.load(f)\n",
    "    print(\"the data is loaded, the size is\", len(data))\n",
    "    \n",
    "except FileNotFoundError:\n",
    "    print(\"File not found\")\n",
    "except json.JSONDecodeError:\n",
    "    print(\"Error: Could not decode JSON from 'galaxy_tools.json'.\")\n",
    "\n"
   ]
  },
  {
   "cell_type": "code",
   "execution_count": 2,
   "id": "d91bf725",
   "metadata": {},
   "outputs": [
    {
     "name": "stdout",
     "output_type": "stream",
     "text": [
      "name\n",
      "description\n",
      "panel_section_name\n",
      "labels\n",
      "edam_topics\n"
     ]
    }
   ],
   "source": [
    "import pandas as pd\n",
    "\n",
    "\n",
    "df = pd.read_csv('galaxy_tools.csv')\n",
    "\n",
    "\n",
    "ID_COLUMN = 'id'\n",
    "NAME_COLUMN = 'name'\n",
    "DESCRIPTION_COLUMN = 'description'\n",
    "SECTION_COLUMN = 'panel_section_name'\n",
    "LABELS_COLUMN = 'labels'\n",
    "TOPICS_COLUMN = 'edam_topics'\n",
    "\n",
    "\n",
    "columns_to_process = [\n",
    "    NAME_COLUMN,\n",
    "    DESCRIPTION_COLUMN,\n",
    "    SECTION_COLUMN,\n",
    "    LABELS_COLUMN,\n",
    "    TOPICS_COLUMN\n",
    "]\n",
    "\n",
    "for data in df[columns_to_process]:\n",
    "    print(data if df[LABELS_COLUMN].notna else ''  )\n",
    "\n",
    "df[columns_to_process] = df[columns_to_process].fillna(' ')\n",
    "\n",
    "\n"
   ]
  },
  {
   "cell_type": "code",
   "execution_count": 3,
   "id": "a74765ee",
   "metadata": {},
   "outputs": [],
   "source": [
    "import ast\n",
    "\n",
    "def create_text_string(row):\n",
    "    \n",
    "    name = row[NAME_COLUMN]\n",
    "    description = row[DESCRIPTION_COLUMN]\n",
    "    section = row[SECTION_COLUMN]\n",
    "    labels_str = row[LABELS_COLUMN]\n",
    "    topics_str = row[TOPICS_COLUMN]\n",
    "\n",
    "    text_parts = []\n",
    "    \n",
    "\n",
    "    if name:\n",
    "        text_parts.append(f\"Tool: {name}.\")\n",
    "    if description:\n",
    "        text_parts.append(f\"Description: {description}.\")\n",
    "    if section:\n",
    "        text_parts.append(f\"Category: {section}.\")\n",
    "\n",
    "\n",
    "    if labels_str:\n",
    "        try:\n",
    "\n",
    "            labels_list = ast.literal_eval(labels_str)\n",
    "            if isinstance(labels_list, list) and labels_list:\n",
    "                text_parts.append(f\"Labels: {', '.join(labels_list)}.\")\n",
    "        except (ValueError, SyntaxError):\n",
    "            \n",
    "            text_parts.append(f\"Labels: {labels_str}.\")\n",
    "\n",
    "    if topics_str:\n",
    "        try:\n",
    "            topics_list = ast.literal_eval(topics_str)\n",
    "            if isinstance(topics_list, list) and topics_list:\n",
    "                text_parts.append(f\"Topics: {', '.join(topics_list)}.\")\n",
    "        except (ValueError, SyntaxError):\n",
    "            text_parts.append(f\"Topics: {topics_str}.\")\n",
    "\n",
    "    return \" \".join(text_parts)\n"
   ]
  },
  {
   "cell_type": "code",
   "execution_count": 4,
   "id": "669cbe1a",
   "metadata": {},
   "outputs": [
    {
     "name": "stdout",
     "output_type": "stream",
     "text": [
      "0       Tool: Upload File. Description: from your comp...\n",
      "1       Tool: UCSC Main. Description: table browser. C...\n",
      "2       Tool: UCSC Archaea. Description: table browser...\n",
      "3       Tool: SRA. Description: server. Category: Get ...\n",
      "4       Tool: EBI SRA. Description: ENA SRA. Category:...\n",
      "                              ...                        \n",
      "7281    Tool: Set External Metadata. Description:  . C...\n",
      "7282    Tool: Export History. Description:  . Category...\n",
      "7283    Tool: Export History to URI. Description:  . C...\n",
      "7284    Tool: Import History. Description:  . Category...\n",
      "7285       Tool: Data Fetch. Description:  . Category:  .\n",
      "Length: 7286, dtype: object\n"
     ]
    }
   ],
   "source": [
    "new_text_String = df.apply(create_text_string,1)\n",
    "\n",
    "\n",
    "print(new_text_String)"
   ]
  },
  {
   "cell_type": "code",
   "execution_count": 5,
   "id": "dc6e648a",
   "metadata": {},
   "outputs": [],
   "source": [
    "data = {\n",
    "    'id' : df[ID_COLUMN],\n",
    "    'text_string': new_text_String\n",
    "}\n",
    "\n",
    "\n",
    "\n",
    "cleaned_df = pd.DataFrame(data)\n",
    "cleaned_df.head\n",
    "\n",
    "\n",
    "cleaned_df.to_csv('cleaned_data.csv',index=False)"
   ]
  },
  {
   "cell_type": "code",
   "execution_count": 6,
   "id": "d50d0a68",
   "metadata": {},
   "outputs": [],
   "source": [
    "import chromadb\n",
    "from sentence_transformers import SentenceTransformer\n",
    "\n",
    "\n",
    "model = SentenceTransformer('all-MiniLM-L6-v2')\n",
    "embeddings = model.encode(cleaned_df['text_string'].to_list())\n",
    "\n"
   ]
  },
  {
   "cell_type": "code",
   "execution_count": null,
   "id": "7c32516f",
   "metadata": {},
   "outputs": [
    {
     "ename": "InternalError",
     "evalue": "Collection [Galaxy_Tools] already exists",
     "output_type": "error",
     "traceback": [
      "\u001b[31m---------------------------------------------------------------------------\u001b[39m",
      "\u001b[31mInternalError\u001b[39m                             Traceback (most recent call last)",
      "\u001b[36mCell\u001b[39m\u001b[36m \u001b[39m\u001b[32mIn[12]\u001b[39m\u001b[32m, line 5\u001b[39m\n\u001b[32m      2\u001b[39m \u001b[38;5;28;01mfrom\u001b[39;00m\u001b[38;5;250m \u001b[39m\u001b[34;01mtqdm\u001b[39;00m\u001b[38;5;250m \u001b[39m\u001b[38;5;28;01mimport\u001b[39;00m tqdm\n\u001b[32m      4\u001b[39m chroma_client = chromadb.Client()\n\u001b[32m----> \u001b[39m\u001b[32m5\u001b[39m collection = \u001b[43mchroma_client\u001b[49m\u001b[43m.\u001b[49m\u001b[43mcreate_collection\u001b[49m\u001b[43m(\u001b[49m\u001b[33;43m'\u001b[39;49m\u001b[33;43mGalaxy_Tools\u001b[39;49m\u001b[33;43m'\u001b[39;49m\u001b[43m)\u001b[49m\n\u001b[32m      8\u001b[39m BATCH_SIZE = \u001b[32m4096\u001b[39m \n\u001b[32m     11\u001b[39m num_documents = \u001b[38;5;28mlen\u001b[39m(cleaned_df)\n",
      "\u001b[36mFile \u001b[39m\u001b[32m~/Desktop/gitfiles/icoglabs/first/galaxy_tools/lib/python3.13/site-packages/chromadb/api/client.py:177\u001b[39m, in \u001b[36mClient.create_collection\u001b[39m\u001b[34m(self, name, configuration, metadata, embedding_function, data_loader, get_or_create)\u001b[39m\n\u001b[32m    174\u001b[39m \u001b[38;5;28;01mif\u001b[39;00m embedding_function \u001b[38;5;129;01mis\u001b[39;00m \u001b[38;5;129;01mnot\u001b[39;00m \u001b[38;5;28;01mNone\u001b[39;00m \u001b[38;5;129;01mand\u001b[39;00m configuration_ef \u001b[38;5;129;01mis\u001b[39;00m \u001b[38;5;28;01mNone\u001b[39;00m:\n\u001b[32m    175\u001b[39m     configuration[\u001b[33m\"\u001b[39m\u001b[33membedding_function\u001b[39m\u001b[33m\"\u001b[39m] = embedding_function\n\u001b[32m--> \u001b[39m\u001b[32m177\u001b[39m model = \u001b[38;5;28;43mself\u001b[39;49m\u001b[43m.\u001b[49m\u001b[43m_server\u001b[49m\u001b[43m.\u001b[49m\u001b[43mcreate_collection\u001b[49m\u001b[43m(\u001b[49m\n\u001b[32m    178\u001b[39m \u001b[43m    \u001b[49m\u001b[43mname\u001b[49m\u001b[43m=\u001b[49m\u001b[43mname\u001b[49m\u001b[43m,\u001b[49m\n\u001b[32m    179\u001b[39m \u001b[43m    \u001b[49m\u001b[43mmetadata\u001b[49m\u001b[43m=\u001b[49m\u001b[43mmetadata\u001b[49m\u001b[43m,\u001b[49m\n\u001b[32m    180\u001b[39m \u001b[43m    \u001b[49m\u001b[43mtenant\u001b[49m\u001b[43m=\u001b[49m\u001b[38;5;28;43mself\u001b[39;49m\u001b[43m.\u001b[49m\u001b[43mtenant\u001b[49m\u001b[43m,\u001b[49m\n\u001b[32m    181\u001b[39m \u001b[43m    \u001b[49m\u001b[43mdatabase\u001b[49m\u001b[43m=\u001b[49m\u001b[38;5;28;43mself\u001b[39;49m\u001b[43m.\u001b[49m\u001b[43mdatabase\u001b[49m\u001b[43m,\u001b[49m\n\u001b[32m    182\u001b[39m \u001b[43m    \u001b[49m\u001b[43mget_or_create\u001b[49m\u001b[43m=\u001b[49m\u001b[43mget_or_create\u001b[49m\u001b[43m,\u001b[49m\n\u001b[32m    183\u001b[39m \u001b[43m    \u001b[49m\u001b[43mconfiguration\u001b[49m\u001b[43m=\u001b[49m\u001b[43mconfiguration\u001b[49m\u001b[43m,\u001b[49m\n\u001b[32m    184\u001b[39m \u001b[43m\u001b[49m\u001b[43m)\u001b[49m\n\u001b[32m    185\u001b[39m \u001b[38;5;28;01mreturn\u001b[39;00m Collection(\n\u001b[32m    186\u001b[39m     client=\u001b[38;5;28mself\u001b[39m._server,\n\u001b[32m    187\u001b[39m     model=model,\n\u001b[32m    188\u001b[39m     embedding_function=embedding_function,\n\u001b[32m    189\u001b[39m     data_loader=data_loader,\n\u001b[32m    190\u001b[39m )\n",
      "\u001b[36mFile \u001b[39m\u001b[32m~/Desktop/gitfiles/icoglabs/first/galaxy_tools/lib/python3.13/site-packages/chromadb/api/rust.py:227\u001b[39m, in \u001b[36mRustBindingsAPI.create_collection\u001b[39m\u001b[34m(self, name, configuration, metadata, get_or_create, tenant, database)\u001b[39m\n\u001b[32m    224\u001b[39m \u001b[38;5;28;01melse\u001b[39;00m:\n\u001b[32m    225\u001b[39m     configuration_json_str = \u001b[38;5;28;01mNone\u001b[39;00m\n\u001b[32m--> \u001b[39m\u001b[32m227\u001b[39m collection = \u001b[38;5;28;43mself\u001b[39;49m\u001b[43m.\u001b[49m\u001b[43mbindings\u001b[49m\u001b[43m.\u001b[49m\u001b[43mcreate_collection\u001b[49m\u001b[43m(\u001b[49m\n\u001b[32m    228\u001b[39m \u001b[43m    \u001b[49m\u001b[43mname\u001b[49m\u001b[43m,\u001b[49m\u001b[43m \u001b[49m\u001b[43mconfiguration_json_str\u001b[49m\u001b[43m,\u001b[49m\u001b[43m \u001b[49m\u001b[43mmetadata\u001b[49m\u001b[43m,\u001b[49m\u001b[43m \u001b[49m\u001b[43mget_or_create\u001b[49m\u001b[43m,\u001b[49m\u001b[43m \u001b[49m\u001b[43mtenant\u001b[49m\u001b[43m,\u001b[49m\u001b[43m \u001b[49m\u001b[43mdatabase\u001b[49m\n\u001b[32m    229\u001b[39m \u001b[43m\u001b[49m\u001b[43m)\u001b[49m\n\u001b[32m    230\u001b[39m collection_model = CollectionModel(\n\u001b[32m    231\u001b[39m     \u001b[38;5;28mid\u001b[39m=collection.id,\n\u001b[32m    232\u001b[39m     name=collection.name,\n\u001b[32m   (...)\u001b[39m\u001b[32m    237\u001b[39m     database=collection.database,\n\u001b[32m    238\u001b[39m )\n\u001b[32m    239\u001b[39m \u001b[38;5;28;01mreturn\u001b[39;00m collection_model\n",
      "\u001b[31mInternalError\u001b[39m: Collection [Galaxy_Tools] already exists"
     ]
    }
   ],
   "source": [
    "import math\n",
    "from tqdm import tqdm\n",
    "\n",
    "chroma_client = chromadb.Client()\n",
    "collection = chroma_client.create_collection('Semantic_Search')\n",
    "\n",
    "\n",
    "BATCH_SIZE = 4096 \n",
    "\n",
    "\n",
    "num_documents = len(cleaned_df)\n",
    "\n",
    "\n",
    "print(f\"Adding {num_documents} documents in batches of {BATCH_SIZE}...\")\n",
    "for i in tqdm(range(0, num_documents, BATCH_SIZE)):\n",
    "\n",
    "    end_index = i + BATCH_SIZE\n",
    "    batch_embeddings = embeddings[i:end_index].tolist()\n",
    "    batch_metadatas = [{\"id\": doc_id} for doc_id in cleaned_df['id'].iloc[i:end_index].tolist()]\n",
    "    batch_documents = cleaned_df['text_string'].iloc[i:end_index].tolist()\n",
    "    batch_ids = cleaned_df['id'].iloc[i:end_index].tolist()\n",
    "\n",
    "    collection.add(\n",
    "        embeddings=batch_embeddings,\n",
    "        metadatas=batch_metadatas,\n",
    "        documents=batch_documents,\n",
    "        ids=batch_ids\n",
    "    )\n",
    "\n",
    "\n",
    "\n"
   ]
  },
  {
   "cell_type": "code",
   "execution_count": null,
   "id": "b4d62205",
   "metadata": {},
   "outputs": [],
   "source": [
    "def print_formatted_answer(results):\n",
    "    ids_list = results['ids'][0]\n",
    "    docs_list = results['documents'][0]\n",
    "    distances_list = results['distances'][0]\n",
    "\n",
    "    for i in range(len(ids_list)):\n",
    "        distance = distances_list[i]\n",
    "        cosine_similarity = 1 - (distance**2 / 2)\n",
    "\n",
    "        if cosine_similarity >= 0.5:\n",
    "            print(f\"Result {i+1}:\")\n",
    "            print(f\"  - Tool ID: {ids_list[i]}\")\n",
    "            print(f\"  - Content: {docs_list[i]}\")\n",
    "            print(f\"  - Raw Distance: {distance:.4f}\")\n",
    "            print(f\"  - Cosine Similarity: {cosine_similarity:.4f}\")\n",
    "\n",
    "            print(\"-\" * 20)\n",
    "\n",
    "            \n"
   ]
  },
  {
   "cell_type": "code",
   "execution_count": null,
   "id": "0ef2f761",
   "metadata": {},
   "outputs": [
    {
     "name": "stdout",
     "output_type": "stream",
     "text": [
      "Result 1:\n",
      "  - Tool ID: toolshed.g2.bx.psu.edu/repos/iuc/progressivemauve/progressivemauve/2015_02_13.1\n",
      "  - Content: Tool: progressiveMauve. Description: constructs multiple genome alignments. Category: Annotation.\n",
      "  - Raw Distance: 0.7604\n",
      "  - Cosine Similarity: 0.7109\n",
      "--------------------\n",
      "Result 2:\n",
      "  - Tool ID: toolshed.g2.bx.psu.edu/repos/iuc/progressivemauve/progressivemauve/2015_02_13.0\n",
      "  - Content: Tool: progressiveMauve. Description: constructs multiple genome alignments. Category: Annotation.\n",
      "  - Raw Distance: 0.7604\n",
      "  - Cosine Similarity: 0.7109\n",
      "--------------------\n",
      "Result 3:\n",
      "  - Tool ID: toolshed.g2.bx.psu.edu/repos/iuc/miniprot/miniprot/0.13+galaxy0\n",
      "  - Content: Tool: Miniprot align. Description: align a protein sequence against a genome with affine gap penalty, splicing and frameshift. Category: Annotation.\n",
      "  - Raw Distance: 0.8321\n",
      "  - Cosine Similarity: 0.6538\n",
      "--------------------\n",
      "Result 4:\n",
      "  - Tool ID: toolshed.g2.bx.psu.edu/repos/iuc/miniprot/miniprot/0.18+galaxy0\n",
      "  - Content: Tool: Miniprot align. Description: align a protein sequence against a genome with affine gap penalty, splicing and frameshift. Category: Annotation.\n",
      "  - Raw Distance: 0.8321\n",
      "  - Cosine Similarity: 0.6538\n",
      "--------------------\n",
      "Result 5:\n",
      "  - Tool ID: toolshed.g2.bx.psu.edu/repos/iuc/minimap2/minimap2/2.17\n",
      "  - Content: Tool: Map with minimap2. Description: A fast pairwise aligner for genomic and spliced nucleotide sequences. Category: Mapping.\n",
      "  - Raw Distance: 0.8368\n",
      "  - Cosine Similarity: 0.6499\n",
      "--------------------\n",
      "Result 6:\n",
      "  - Tool ID: toolshed.g2.bx.psu.edu/repos/iuc/minimap2/minimap2/2.17+galaxy3\n",
      "  - Content: Tool: Map with minimap2. Description: A fast pairwise aligner for genomic and spliced nucleotide sequences. Category: Mapping.\n",
      "  - Raw Distance: 0.8368\n",
      "  - Cosine Similarity: 0.6499\n",
      "--------------------\n",
      "Result 7:\n",
      "  - Tool ID: toolshed.g2.bx.psu.edu/repos/iuc/minimap2/minimap2/2.17+galaxy0\n",
      "  - Content: Tool: Map with minimap2. Description: A fast pairwise aligner for genomic and spliced nucleotide sequences. Category: Mapping.\n",
      "  - Raw Distance: 0.8368\n",
      "  - Cosine Similarity: 0.6499\n",
      "--------------------\n",
      "Result 8:\n",
      "  - Tool ID: toolshed.g2.bx.psu.edu/repos/iuc/minimap2/minimap2/2.17+galaxy2\n",
      "  - Content: Tool: Map with minimap2. Description: A fast pairwise aligner for genomic and spliced nucleotide sequences. Category: Mapping.\n",
      "  - Raw Distance: 0.8368\n",
      "  - Cosine Similarity: 0.6499\n",
      "--------------------\n",
      "Result 9:\n",
      "  - Tool ID: toolshed.g2.bx.psu.edu/repos/iuc/minimap2/minimap2/2.17+galaxy4\n",
      "  - Content: Tool: Map with minimap2. Description: A fast pairwise aligner for genomic and spliced nucleotide sequences. Category: Mapping.\n",
      "  - Raw Distance: 0.8368\n",
      "  - Cosine Similarity: 0.6499\n",
      "--------------------\n",
      "Result 10:\n",
      "  - Tool ID: toolshed.g2.bx.psu.edu/repos/iuc/minimap2/minimap2/2.28+galaxy1\n",
      "  - Content: Tool: Map with minimap2. Description: A fast pairwise aligner for genomic and spliced nucleotide sequences. Category: Mapping. Topics: topic_0102.\n",
      "  - Raw Distance: 0.8462\n",
      "  - Cosine Similarity: 0.6419\n",
      "--------------------\n"
     ]
    }
   ],
   "source": [
    "query = \"Align this novel DNA sequence against the human genome.\"\n",
    "query_embedding = model.encode([query]).tolist()\n",
    "\n",
    "results = collection.query(\n",
    "    query_embeddings=query_embedding,\n",
    "    n_results=10\n",
    ")\n",
    "\n",
    "print_formatted_answer(results)"
   ]
  }
 ],
 "metadata": {
  "kernelspec": {
   "display_name": "galaxy_tools (3.13.5)",
   "language": "python",
   "name": "python3"
  },
  "language_info": {
   "codemirror_mode": {
    "name": "ipython",
    "version": 3
   },
   "file_extension": ".py",
   "mimetype": "text/x-python",
   "name": "python",
   "nbconvert_exporter": "python",
   "pygments_lexer": "ipython3",
   "version": "3.13.5"
  }
 },
 "nbformat": 4,
 "nbformat_minor": 5
}
